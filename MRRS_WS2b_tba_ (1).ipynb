{
 "cells": [
  {
   "cell_type": "markdown",
   "metadata": {
    "id": "iUwrSUxjdn0J"
   },
   "source": [
    "# Microwaves and Radar Remote Sensing - WS2b\n",
    "\n",
    "Dr. Ing. Francescopaolo Sica"
   ]
  },
  {
   "cell_type": "markdown",
   "metadata": {
    "id": "kb_EQQw1dn0L"
   },
   "source": [
    "## Coverage, Resolution, Timing and Sampling\n",
    "\n",
    "Together with the acquisition geometry, **timing** is the second fundamental definition that sets the basic properties of an MRRS system. In this workshop, we will learn to define the fundamental timing properties and new system parameters. "
   ]
  },
  {
   "cell_type": "markdown",
   "metadata": {
    "id": "1sXcr8dadn0L"
   },
   "source": [
    "To start our simulations, we first need to check if we correctly set the environment and test if all necessary packages have been installed. The following line of code will:\n",
    "1) make a check about the python environment one is currently using\n",
    "\n",
    "2) import the needed python packages (in case of errors, the package has probably not correctly been installed in the environment)"
   ]
  },
  {
   "cell_type": "code",
   "execution_count": 4,
   "metadata": {
    "id": "FqUsgd5zdn0L",
    "outputId": "9570f18f-1522-4509-e1c5-99c0b36d5ad5"
   },
   "outputs": [
    {
     "name": "stdout",
     "output_type": "stream",
     "text": [
      "/Users/alanromer/miniconda3/envs/TUB_MSSR/bin/python\n"
     ]
    }
   ],
   "source": [
    "import sys\n",
    "print(sys.executable)"
   ]
  },
  {
   "cell_type": "code",
   "execution_count": 5,
   "metadata": {
    "id": "m59hbBL-dn0M"
   },
   "outputs": [],
   "source": [
    "import scipy.constants as constants\n",
    "import matplotlib.pyplot as plt\n",
    "import numpy as np"
   ]
  },
  {
   "cell_type": "markdown",
   "metadata": {
    "id": "a1WPvpsudn0M"
   },
   "source": [
    "### From the theory\n",
    "\n",
    "The term **timing** describes the set of temporal variables with which the system transmits the radar signals and receives the corresponding **echoes**. To be meaningful these echoes need to be coupled with the acquisition geometry, i.e., the relative position between aircraft and footprint.\n",
    "\n",
    "The temporal dimension in the elevation and azimuth planes of the radar antenna take the name of **range** and **azimuth**, respectively. "
   ]
  },
  {
   "cell_type": "markdown",
   "metadata": {
    "id": "GJw5_thodn0M"
   },
   "source": [
    "#### Range-time and distances\n",
    "\n",
    "In range, the relationship between time and distance is described by\n",
    "\n",
    "$$t_\\mathrm{r} = \\frac{2\\cdot r_0}{\\mathrm{c}_0}\\quad ,$$\n",
    "\n",
    "where\n",
    "\n",
    "- $r_0$ is the slant range, \n",
    "- $\\mathrm{c}_0$ is the velocity of propagation of the radar signals in the medium\n",
    "- the factor 2 describes the way forth and back of the signals. \n",
    "\n",
    "The receiving window of the radar is typically called **echo window**, and is related to the difference in the travelling time for near and far range \n",
    "\n",
    "$$t_\\mathrm{EWL} \\ge \\frac{2\\cdot \\left(r_{0, \\mathrm{max}}-r_{0, \\mathrm{min}}\\right)}{\\mathrm{c}_0}+\\tau_\\mathrm{pulse}\\quad ,$$\n",
    "\n",
    "where $\\tau_\\mathrm{pulse}$ is the **duration of the pulses** transmitted by the radar. "
   ]
  },
  {
   "cell_type": "markdown",
   "metadata": {
    "id": "2UpP4KPUdn0N"
   },
   "source": [
    "The time elapsed between two transmitted pulses is called **pulse repetition interval** (PRI) and its inverse the **pulse repetition frequency** (PRF)\n",
    "\n",
    "The PRI should be typically larger than both the echo window length and the pulse duration\n",
    "\n",
    "$$\\mathrm{PRI}=\\frac{1}{\\mathrm{PRF}} > t_\\mathrm{EWL} + t_\\mathrm{EWP}\\quad . $$\n",
    "\n",
    "The time elapsed between the transmission of the pulse and the reception of the first echoes is typically known as **echo window position**. \n",
    "\n",
    "\n",
    "#### System sensitivity\n",
    "\n",
    "The average power is one of the main drivers of the sensitivity of the system and can be expressed as follows\n",
    "\n",
    "$$P_\\mathrm{avg} = P_\\mathrm{Tx}\\cdot \\tau_\\mathrm{pulse}\\cdot \\mathrm{PRF}\\quad ,$$\n",
    "\n",
    "where $P_\\mathrm{Tx}$ is the **peak power** delivered by the instrument and showed in the workshop #1b. "
   ]
  },
  {
   "cell_type": "markdown",
   "metadata": {
    "id": "yZ3W6sP0dn0N"
   },
   "source": [
    "#### Timing for a Real Aperture Radar\n",
    "\n",
    "In the case of a **Real Aperture Radar** (RAR), at least one echo per footprint should be acquired to grant the continuity of the image on ground. This results in\n",
    "\n",
    "$$\\mathrm{PRF}\\ge\\frac{v_\\mathrm{g}}{r_0\\cdot \\theta_\\mathrm{a}}\\approx \\frac{v_\\mathrm{g}\\cdot L_\\mathrm{a}}{r_0\\cdot \\lambda}\\quad .$$\n",
    "\n",
    "The sampling of the echo window needs to fulfill the Nyquist criterium. Therefore the **range sampling frequency** (RSF) should be    \n",
    "\n",
    "$$\\mathrm{RSF}\\ge B_\\mathrm{r}\\quad ,$$\n",
    "\n",
    "where $B_\\mathrm{r}$ is the **bandwidth** of the transmitted pulse."
   ]
  },
  {
   "cell_type": "markdown",
   "metadata": {
    "id": "KeUMN1Fzdn0N"
   },
   "source": [
    "#### Timing for a Synthetic Aperture Radar\n",
    "\n",
    "In the case of a **Synthetic Aperture Radar** (SAR), the length of the antenna can be synthetically enlarged -via processing- to **twice the size of the footprint**. \n",
    "\n",
    "The pulse repetition frequency therefore becomes \n",
    "\n",
    "$$\\mathrm{PRF}\\ge\\frac{v_\\mathrm{g}}{r_0\\cdot \\frac{\\lambda}{2\\cdot r_0\\cdot \\theta_\\mathrm{a}}}\\approx \\frac{2\\cdot v_\\mathrm{g}}{L_\\mathrm{a}}\\quad .$$\n",
    "\n",
    "**Note**: The derivation is approximate -the actual equation is proportional to the spacecraft velocity rather than the ground velocity-, but functional for the sake of clarity. "
   ]
  },
  {
   "cell_type": "markdown",
   "metadata": {
    "id": "9W-JNQGMdn0N"
   },
   "source": [
    "#### Range resolution\n",
    "\n",
    "The range resolution is proportional to the signal bandwidth. In the **slant** geometry, it can be expressed as\n",
    "\n",
    "$$\\delta r = \\frac{\\mathrm{c}_0}{2\\cdot B_\\mathrm{r}}\\quad ,$$\n",
    "\n",
    "which for better interpretation can be again projected on **ground** and approximated as \n",
    "\n",
    "$$\\delta r_\\mathrm{g} = \\frac{\\mathrm{c}_0}{2\\cdot B_\\mathrm{r}\\cdot \\sin\\theta_\\mathrm{inc}}\\quad .$$\n",
    "\n",
    "**Note**: the range resolution hence varies together with the incident angle and is therefore sensitive to the local gradients of the topography."
   ]
  },
  {
   "cell_type": "markdown",
   "metadata": {
    "id": "rbvGIhE1dn0N"
   },
   "source": [
    "#### Azimuth resolution\n",
    "\n",
    "The **azimuth resolution** of a real aperture system is the footprint, i.e., \n",
    "\n",
    "$$\\delta x_\\mathrm{RAR} = r_0\\cdot \\frac{\\lambda}{L_\\mathrm{a}}\\quad .$$\n",
    "\n",
    "\n",
    "Assuming the results above, the azimuth resolution of a synthetic aperture radar becomes\n",
    "\n",
    "$$\\delta x_\\mathrm{SAR} = r_0\\cdot \\frac{\\lambda}{2\\cdot r_0\\cdot \\theta_\\mathrm{a}} \\approx \\frac{L_\\mathrm{a}}{2}\\quad ;$$\n",
    "\n",
    "**Note:** the resolution in the real aperture and synthetic aperture cases have inverse relationships with the size of the antenna. Whereas in the real aperture case an improved resolution requires the growth of the antenna, in the synthetic aperture case it is the opposite, which poses a sensitivity challenge. Furthermore, in both cases the better the resolution, the higher the PRF. \n",
    "\n",
    "\n"
   ]
  },
  {
   "cell_type": "markdown",
   "metadata": {
    "id": "2DcX-FiZdn0O"
   },
   "source": [
    "### Exercise 1\n",
    "\n",
    "Compute the echo window length, echo window position, range sampling and pulse repetition frequency of a side-looking airborne radar geometry, assuming a real aperture system flying at 100 m/s, operated at Ku-band with 100 MHz and a 3 m antenna. Discuss the results."
   ]
  },
  {
   "cell_type": "code",
   "execution_count": 6,
   "metadata": {
    "id": "HHxvBVzgdn0O"
   },
   "outputs": [],
   "source": [
    "# Define a function that computes the range distance r0 and the incidence angle given the acquisition geometry\n",
    "# inputs: rE   - Earth radius\n",
    "#         h    - platform altitude\n",
    "#         look - look angle\n",
    "\n",
    "def compute_r0_thetainc(rE, h, theta_look):\n",
    "    b    = (rE + h) * 2 * np.cos(theta_look)\n",
    "    c    = -(rE**2 - (rE + h)**2)\n",
    "    r0   = (b - np.sqrt(b**2 - 4 * c)) * 0.5\n",
    "    theta_inc   = np.arccos(((rE + h)**2 - rE**2 - r0**2)/(2 * r0 * rE))\n",
    "    return r0, theta_inc"
   ]
  },
  {
   "cell_type": "code",
   "execution_count": 8,
   "metadata": {
    "id": "zRZ1-4zvdn0O",
    "outputId": "a5af4ac7-a49b-47c2-cda4-5d2a96a37fa5"
   },
   "outputs": [
    {
     "name": "stdout",
     "output_type": "stream",
     "text": [
      "t_pulse:\n",
      "1e-08\n",
      "t_EWL:\n",
      "7.009498085197951e-06\n",
      "t_EWP:\n",
      "2.1298954083482417e-05\n",
      "RSF should be bigger then:\n",
      "100000000.0\n",
      "PRF should be bigger then:\n",
      "2.8308452168680368e-05\n"
     ]
    }
   ],
   "source": [
    "hAir = 3.e3\n",
    "rE   = 6371.e3  # Earth radius\n",
    "c0 = constants.c\n",
    "Br = 100*1e6\n",
    "\n",
    "N    = 1024\n",
    "theta_look = np.arange(20,45,(45-20)/N) * np.pi / 180.\n",
    "\n",
    "# **your code here**\n",
    "r0, theta_inc = compute_r0_thetainc(rE,hAir,theta_look)\n",
    "\n",
    "t_pulse = 1/100 * 1e-6\n",
    "print('t_pulse:')\n",
    "print(t_pulse)\n",
    "\n",
    "# **your code here**\n",
    "t_EWL = 2*(np.max(r0)-np.min(r0))/c0 +t_pulse \n",
    "print('t_EWL:')\n",
    "print(t_EWL)\n",
    "\n",
    "# **your code here**\n",
    "t_EWP = 2*(np.min(r0))/c0\n",
    "print('t_EWP:')\n",
    "print(t_EWP)\n",
    "\n",
    "RSF=Br\n",
    "print('RSF should be bigger or equal to:')\n",
    "print(RSF)\n",
    "\n",
    "PRF= t_EWL+ t_EWP\n",
    "print('PRF should be smaller or equal to:')\n",
    "print(PRF)"
   ]
  },
  {
   "cell_type": "markdown",
   "metadata": {
    "id": "T0k_D2Zwdn0O"
   },
   "source": [
    "### Answer 1"
   ]
  },
  {
   "cell_type": "markdown",
   "metadata": {
    "id": "HrjnbjhDdn0O"
   },
   "source": [
    "** **your answer here** **\n",
    "not sure what to discuss... the numbers seem small?"
   ]
  },
  {
   "cell_type": "markdown",
   "metadata": {
    "id": "NJ70rqxVdn0O"
   },
   "source": [
    "### Exercise 2\n",
    "\n",
    "Compute the echo window length, echo window position, and PRF of an X-band spaceborne SAR system flying at 514 km with a 4.7 m antenna and illuminating a swath of 30 km around 35 deg incidence. Discuss the results.  "
   ]
  },
  {
   "cell_type": "code",
   "execution_count": 25,
   "metadata": {
    "id": "zncGznQjdn0P",
    "outputId": "ae87675c-b2c7-48d7-b539-d56359da9334"
   },
   "outputs": [
    {
     "name": "stdout",
     "output_type": "stream",
     "text": [
      "swath:\n",
      "31763.060078877206\n",
      "t_pulse:\n",
      "1e-08\n",
      "t_EWL:\n",
      "0.00011154878256411027\n",
      "t_EWP:\n",
      "0.0041607426231105825\n",
      "PRF should be smaller or equal to:\n",
      "0.004272291405674693\n"
     ]
    }
   ],
   "source": [
    "hAir = 514.e3\n",
    "rE   = 6371.e3  # Earth radius\n",
    "c0 = constants.c\n",
    "Br = 100*1e6\n",
    "\n",
    "N    = 1024\n",
    "theta_look = np.arange(33,35,(35-33)/N) * np.pi / 180.\n",
    "\n",
    "# **your code here**\n",
    "r0, theta_inc = compute_r0_thetainc(rE,hAir,theta_look)\n",
    "\n",
    "# **your code here**\n",
    "# compute swath with precise formula\n",
    "swath_spc = hAir*(np.tan(np.max(theta_inc))-np.tan(np.min(theta_inc)))\n",
    "print('swath:')\n",
    "print(swath_spc)\n",
    "\n",
    "t_pulse = 1/Br\n",
    "print('t_pulse:')\n",
    "print(t_pulse)\n",
    "\n",
    "# **your code here**\n",
    "t_EWL = 2*(np.max(r0)-np.min(r0))/c0 +t_pulse \n",
    "print('t_EWL:')\n",
    "print(t_EWL)\n",
    "\n",
    "# **your code here**\n",
    "t_EWP = 2*(np.min(r0))/c0\n",
    "print('t_EWP:')\n",
    "print(t_EWP)\n",
    "\n",
    "PRF= t_EWL+ t_EWP\n",
    "print('PRF should be smaller or equal to:')\n",
    "print(PRF)\n"
   ]
  },
  {
   "cell_type": "markdown",
   "metadata": {
    "id": "iVE-qgYIdn0P"
   },
   "source": [
    "### Answer 2"
   ]
  },
  {
   "cell_type": "markdown",
   "metadata": {
    "id": "sZNvkeamdn0P"
   },
   "source": [
    "** **your answer here** **\n",
    "First loook all numbers become several magnitudes bigger. \n",
    "t_EWP: became bigger since the distance between satalite and earth is a lot bigger then plane and earth resulting in a greater amount of time need for the signal to make the trip twice since we cannot increase the signals speed. \n",
    "t_EWL: the explanation for this increase isn't as intuitive as for t_EWP, since it measures the time of first and last signal reaceived from a single pulse. It is probably the easiest to explain via a triangle between satelite, first echo position and last. The time measured is the time needed for difference between the distance r1(satelite to first echo position) and r2(satelite to last echo position). We can use the cosine rule to determina the distance of r2 if r1 and r3 is known(first to last echo position) and inc1 angle (incident angle of first echo position). \n",
    " \n",
    "$r2^2= r1^2+r3^2-2*r1*r3*cos(inc1)$\n",
    "\n",
    "since inc1 is always greater than 90 this results in cos being negative and r2 always being bigger the r1 by the swath and $2*r1*r3*cos(inc1)$ meaning the sice increase is dependent on the distane to earth. leads to larger disparity between r1 and r2 which leads to a longer time needed. P.S. this disparity between r1 and r2 only increases if we add the curviture of the earth. \n",
    "PWF: is just t_EWP + t_EWL"
   ]
  },
  {
   "cell_type": "markdown",
   "metadata": {
    "id": "sPynzpwhdn0P"
   },
   "source": [
    "### Exercise 3\n",
    "\n",
    "Compute the range resolution in slant and on ground for the airborne system described in exercise 1.\n"
   ]
  },
  {
   "cell_type": "code",
   "execution_count": 23,
   "metadata": {
    "id": "k1vH923odn0P",
    "outputId": "5be27075-efe0-47dd-df39-e527a122f2a7"
   },
   "outputs": [
    {
     "name": "stdout",
     "output_type": "stream",
     "text": [
      "slant-range resolution:\n",
      "1.49896229\n",
      "angles:\n",
      "[0.34923724 0.34991938 0.35060151 ... 1.04596457 1.04664762 1.04733067]\n",
      "ground-range resolution:\n",
      "[4.38060978 4.37242062 4.36426404 ... 1.73208689 1.73140255 1.73071956]\n"
     ]
    }
   ],
   "source": [
    "import numpy as np                                                           \n",
    "\n",
    "hAir = 3.e3\n",
    "rE   = 6371.e3  # Earth radius\n",
    "c0 = constants.c\n",
    "Br = 100*1e6\n",
    "N    = 1024\n",
    "theta_look = np.arange(20,60,(60-20)/N) * np.pi / 180.\n",
    "\n",
    "# **your code here**\n",
    "r0, theta_inc = compute_r0_thetainc(rE,hAir,theta_look)\n",
    "\n",
    "# **your code here**\n",
    "\n",
    "print('slant-range resolution:')\n",
    "print(c0/(2*Br))\n",
    "# **your code here**\n",
    "print('angles:')\n",
    "print(theta_inc)\n",
    "print('ground-range resolution:')\n",
    "print(c0/(2*Br*np.sin(np.array(theta_inc))))\n"
   ]
  },
  {
   "cell_type": "markdown",
   "metadata": {
    "id": "2iq7g43qdn0P"
   },
   "source": [
    "### Answer 3"
   ]
  },
  {
   "cell_type": "markdown",
   "metadata": {
    "id": "Amh2_I-Rdn0P"
   },
   "source": [
    "** **your answer here** **\n",
    "Based on the lecture with inceasing angle the ground resolution should worsen however for whatever reason the resolution is becoming better "
   ]
  },
  {
   "cell_type": "markdown",
   "metadata": {
    "id": "u4l8F6kgdn0P"
   },
   "source": [
    "### Exercise 4\n",
    "\n",
    "For the spaceborne system in exercise 2, compute the PRF, the azimuth resolution and discuss the results. "
   ]
  },
  {
   "cell_type": "code",
   "execution_count": 24,
   "metadata": {
    "id": "35ZNikcidn0Q",
    "outputId": "dad07acf-7677-4879-c8cb-a132bb33c5d5"
   },
   "outputs": [
    {
     "name": "stdout",
     "output_type": "stream",
     "text": [
      "swath:\n",
      "32851.12710661093\n",
      "t_pulse:\n",
      "1e-05\n",
      "t_EWL:\n",
      "0.0001277444338338354\n",
      "t_EWP:\n",
      "0.004215062359768221\n",
      "PRF:\n",
      "0.004342806793602056\n",
      "azimoth resolution:\n",
      "2.35\n"
     ]
    }
   ],
   "source": [
    "hAir = 514.e3\n",
    "rE   = 6371.e3  # Earth radius\n",
    "c0 = constants.c\n",
    "L = 4.7\n",
    "Br = 100 *1e3\n",
    "\n",
    "N    = 1024\n",
    "theta_look = np.arange(34,36,(36-34)/N) * np.pi / 180.\n",
    "\n",
    "# **your code here**\n",
    "r0, theta_inc = compute_r0_thetainc(rE,hAir,theta_look)\n",
    "\n",
    "# compute swath with precise formula\n",
    "swath_spc = hAir*(np.tan(np.max(theta_inc))-np.tan(np.min(theta_inc)))\n",
    "print('swath:')\n",
    "print(swath_spc)\n",
    "\n",
    "t_pulse = 1/Br\n",
    "print('t_pulse:')\n",
    "print(t_pulse)\n",
    "\n",
    "# **your code here**\n",
    "t_EWL = 2*(np.max(r0)-np.min(r0))/c0 +t_pulse  \n",
    "print('t_EWL:')\n",
    "print(t_EWL)\n",
    "\n",
    "# **your code here**\n",
    "t_EWP = 2*(np.min(r0))/c0\n",
    "print('t_EWP:')\n",
    "print(t_EWP)\n",
    "\n",
    "# **your code here**\n",
    "PRF = t_EWL+ t_EWP\n",
    "print('PRF:')\n",
    "print(PRF)\n",
    "\n",
    "az=L/2\n",
    "print('azimoth resolution:')\n",
    "print(az)\n",
    "\n"
   ]
  },
  {
   "cell_type": "markdown",
   "metadata": {
    "id": "vPGHezsodn0Q"
   },
   "source": [
    "### Answer 4"
   ]
  },
  {
   "cell_type": "markdown",
   "metadata": {
    "id": "CBFDwdCwdn0Q"
   },
   "source": [
    "** **your answer here** ** we arent given a wavelength or the frequenzy of the signal therefore dwe use the approximation\n",
    "it's nice that it is closed to the range resolution of the airplane. shows that the resolution is independent from range. ? dont know what to dicus for a single number \n"
   ]
  },
  {
   "cell_type": "markdown",
   "metadata": {
    "id": "kmmXZvwudn0Q"
   },
   "source": [
    "### Acknowledgements \n",
    "\n",
    "- Dr. Ing. Marc Rodriguez-Cassola \n",
    "\n",
    "- Prof. Andreas Reigber"
   ]
  },
  {
   "cell_type": "code",
   "execution_count": null,
   "metadata": {
    "id": "HMRA-U2Cdn0Q"
   },
   "outputs": [],
   "source": []
  }
 ],
 "metadata": {
  "anaconda-cloud": {},
  "colab": {
   "provenance": []
  },
  "kernelspec": {
   "display_name": "Python 3 (ipykernel)",
   "language": "python",
   "name": "python3"
  },
  "language_info": {
   "codemirror_mode": {
    "name": "ipython",
    "version": 3
   },
   "file_extension": ".py",
   "mimetype": "text/x-python",
   "name": "python",
   "nbconvert_exporter": "python",
   "pygments_lexer": "ipython3",
   "version": "3.8.16"
  }
 },
 "nbformat": 4,
 "nbformat_minor": 1
}
